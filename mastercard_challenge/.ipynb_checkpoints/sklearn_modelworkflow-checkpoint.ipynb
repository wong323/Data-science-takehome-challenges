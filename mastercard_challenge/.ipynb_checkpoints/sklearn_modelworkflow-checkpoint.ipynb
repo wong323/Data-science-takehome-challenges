{
 "cells": [
  {
   "cell_type": "markdown",
   "metadata": {},
   "source": [
    "# Model Execution"
   ]
  },
  {
   "cell_type": "markdown",
   "metadata": {},
   "source": [
    "## The Solution\n",
    "\n",
    "Overall, this solution is designed to classify cases of fraudulent and non-fraudulent behaviour.\n",
    "\n",
    "There are three models within this solution:\n",
    "\n",
    "- One Extra Trees model, with cross-validation and RFE, in this notebook.\n",
    "- One Baseline Sequential model written in Keras, in the keras_modelworkflow notebook\n",
    "- One Sequential model with hyperparameter optimization, in the keras_modelworkflow notebook.\n",
    "\n",
    "\n",
    "\n",
    "The structure of this code solution is as follows:\n"
   ]
  },
  {
   "cell_type": "raw",
   "metadata": {},
   "source": [
    "/fraud_detector_v2a_1\n",
    "├── keras_modelworkflow.ipynb\n",
    "├── sklearn_modelworkflow.ipynb\n",
    "├── modelconfig\n",
    "│   ├── modelconfig.py\n",
    "│   │   └── <model configuration code>\n",
    "│   └── hyperparameters.json\n",
    "└── inputparser.py\n",
    "    ├── <data io functions>\n",
    "    ├── <data cleaning functions>\n",
    "    └── <data type conversion functions>"
   ]
  },
  {
   "cell_type": "markdown",
   "metadata": {},
   "source": [
    "## The Script\n",
    "\n",
    "\n",
    "This script runs the sklearn model by doing the following:\n",
    "\n",
    "1. Read in model and feature prep code\n",
    "2. Initialize a model\n",
    "3. Run that model to generate results.\n",
    "\n",
    "\n",
    "I implemented an extra trees classifier, and employed cross-validation and recursive feature elimination approaches.\n",
    "\n",
    "One objective of this work was to quickly identify feature effectiveness."
   ]
  },
  {
   "cell_type": "code",
   "execution_count": 83,
   "metadata": {},
   "outputs": [],
   "source": [
    "from sklearn.model_selection import train_test_split, StratifiedKFold\n",
    "from sklearn.feature_selection import RFE, RFECV, SelectKBest, chi2\n",
    "from sklearn.ensemble import ExtraTreesClassifier as etc\n",
    "from sklearn import preprocessing\n",
    "import matplotlib.pyplot as plt\n",
    "import numpy\n",
    "from numpy.random import standard_normal\n",
    "import inputparser\n",
    "# fix random seed for reproducibility\n",
    "numpy.random.seed(7)"
   ]
  },
  {
   "cell_type": "markdown",
   "metadata": {},
   "source": [
    "Here we take advantage of our helper functionality to load in our dataset."
   ]
  },
  {
   "cell_type": "code",
   "execution_count": 85,
   "metadata": {},
   "outputs": [
    {
     "name": "stdout",
     "output_type": "stream",
     "text": [
      "(23085, 26)\n"
     ]
    },
    {
     "data": {
      "text/plain": [
       "array([[ 4.97651131e+01, -1.53425244e+00, -1.44098426e+00, ...,\n",
       "        -1.44241302e+00, -9.27206701e-01,  9.86627740e-04],\n",
       "       [ 9.33895711e-01, -1.54648419e+00, -1.43780309e+00, ...,\n",
       "        -1.37054006e+00,  2.86274562e-01, -9.56412845e-02],\n",
       "       [-1.75904685e-01, -1.50367307e+00, -1.42507843e+00, ...,\n",
       "         3.84005693e-01, -6.47786672e-01,  1.59023457e-02],\n",
       "       ...,\n",
       "       [-1.75904685e-01, -5.00669774e-01, -6.96591778e-01, ...,\n",
       "        -1.57683885e-01, -1.22165436e+00, -7.11974074e-03],\n",
       "       [-1.75904685e-01, -3.35541182e-01, -2.92583896e-01, ...,\n",
       "         1.29632498e+00,  2.86274562e-01, -4.44090357e-02],\n",
       "       [-1.28570508e+00, -6.90261861e-01, -6.64780134e-01, ...,\n",
       "         9.65331095e-01, -7.57676228e-01, -2.36567324e-02]])"
      ]
     },
     "execution_count": 85,
     "metadata": {},
     "output_type": "execute_result"
    }
   ],
   "source": [
    "\n",
    "traffic = inputparser.csv_reader('traffic.csv')\n",
    "traffic = traffic.dropna()\n",
    "#traffic = traffic[traffic['number_of_mouse_clicks']==True]\n",
    "print(traffic.shape)\n",
    "Y = traffic[['is_fraud']]\n",
    "x = inputparser.x_maker(traffic)\n",
    "x\n"
   ]
  },
  {
   "cell_type": "code",
   "execution_count": 86,
   "metadata": {},
   "outputs": [
    {
     "data": {
      "text/plain": [
       "array([0, 0, 0, ..., 1, 1, 1])"
      ]
     },
     "execution_count": 86,
     "metadata": {},
     "output_type": "execute_result"
    }
   ],
   "source": [
    "Y = Y.values.ravel()\n",
    "Y"
   ]
  },
  {
   "cell_type": "code",
   "execution_count": 90,
   "metadata": {},
   "outputs": [
    {
     "name": "stdout",
     "output_type": "stream",
     "text": [
      "Fitting estimator with 22 features.\n",
      "Fitting estimator with 22 features.\n",
      "Fitting estimator with 20 features.\n",
      "Fitting estimator with 20 features.\n",
      "Fitting estimator with 18 features.\n",
      "Fitting estimator with 18 features.\n",
      "Fitting estimator with 16 features.\n",
      "Fitting estimator with 16 features.\n",
      "Fitting estimator with 14 features.\n",
      "Fitting estimator with 14 features.\n",
      "Fitting estimator with 12 features.\n",
      "Fitting estimator with 12 features.\n",
      "Fitting estimator with 10 features.\n",
      "Fitting estimator with 10 features.\n",
      "Fitting estimator with 8 features.\n",
      "Fitting estimator with 8 features.\n",
      "Fitting estimator with 6 features.\n",
      "Fitting estimator with 6 features.\n",
      "Fitting estimator with 4 features.\n",
      "Fitting estimator with 4 features.\n",
      "Fitting estimator with 2 features.\n",
      "Fitting estimator with 2 features.\n",
      "CPU times: user 1min 3s, sys: 156 ms, total: 1min 3s\n",
      "Wall time: 1min 43s\n"
     ]
    }
   ],
   "source": [
    "%%time\n",
    "\n",
    "clf = etc(n_estimators = 240, random_state = 0)\n",
    "#rfe = RFE(estimator=clf, n_features_to_select=1, step=1)\n",
    "rfecv = RFECV(estimator=clf, step=0.1, cv=StratifiedKFold(2), n_jobs=4,\n",
    "              scoring='accuracy', verbose = 2)\n",
    "\n",
    "rfecv.fit(x, Y)"
   ]
  },
  {
   "cell_type": "code",
   "execution_count": 91,
   "metadata": {},
   "outputs": [
    {
     "data": {
      "image/png": "[encoded data removed]",
      "text/plain": [
       "<matplotlib.figure.Figure at 0x7fdd44ab47f0>"
      ]
     },
     "metadata": {},
     "output_type": "display_data"
    }
   ],
   "source": [
    "plt.figure()\n",
    "plt.xlabel(\"# features selected\")\n",
    "plt.ylabel(\"Cross validation score (prop. of correct classifications)\")\n",
    "plt.plot(range(1, len(rfecv.grid_scores_) + 1), rfecv.grid_scores_)\n",
    "plt.show()"
   ]
  },
  {
   "cell_type": "code",
   "execution_count": 92,
   "metadata": {},
   "outputs": [
    {
     "data": {
      "text/plain": [
       "array([12,  7,  3,  1,  7,  3,  4, 12, 10,  8,  9,  6,  8,  6, 11,  2,  4,\n",
       "       10,  5,  5, 11,  9])"
      ]
     },
     "execution_count": 92,
     "metadata": {},
     "output_type": "execute_result"
    }
   ],
   "source": [
    "rfecv.ranking_"
   ]
  },
  {
   "cell_type": "code",
   "execution_count": 87,
   "metadata": {},
   "outputs": [],
   "source": [
    "%%time\n",
    "clf.fit(x, Y)\n",
    "importances = clf.feature_importances_\n",
    "std = numpy.std([tree.feature_importances_ for tree in clf.estimators_],\n",
    "             axis=0)\n",
    "indices = numpy.argsort(importances)[::-1]"
   ]
  },
  {
   "cell_type": "code",
   "execution_count": 88,
   "metadata": {},
   "outputs": [
    {
     "data": {
      "image/png": "[encoded data removed]",
      "text/plain": [
       "<matplotlib.figure.Figure at 0x7fdd559cc320>"
      ]
     },
     "metadata": {},
     "output_type": "display_data"
    }
   ],
   "source": [
    "plt.figure()\n",
    "plt.title(\"Feature importances\")\n",
    "plt.bar(range(x.shape[1]), importances[indices],\n",
    "       color=\"r\", yerr=std[indices], align=\"center\")\n",
    "plt.xticks(range(x.shape[1]), indices)\n",
    "plt.xlim([-1, x.shape[1]])\n",
    "plt.show()"
   ]
  },
  {
   "cell_type": "code",
   "execution_count": 89,
   "metadata": {},
   "outputs": [
    {
     "name": "stdout",
     "output_type": "stream",
     "text": [
      "Feature ranking:\n",
      "1. feature 15 (0.069702)\n",
      "2. feature 3 (0.058424)\n",
      "3. feature 5 (0.057352)\n",
      "4. feature 2 (0.053588)\n",
      "5. feature 6 (0.052174)\n",
      "6. feature 19 (0.051583)\n",
      "7. feature 18 (0.049457)\n",
      "8. feature 16 (0.048598)\n",
      "9. feature 11 (0.045744)\n",
      "10. feature 4 (0.044035)\n",
      "11. feature 1 (0.043197)\n",
      "12. feature 13 (0.042687)\n",
      "13. feature 21 (0.041264)\n",
      "14. feature 9 (0.041070)\n",
      "15. feature 12 (0.041010)\n",
      "16. feature 10 (0.039339)\n",
      "17. feature 17 (0.039216)\n",
      "18. feature 8 (0.038735)\n",
      "19. feature 14 (0.038200)\n",
      "20. feature 20 (0.037792)\n",
      "21. feature 7 (0.036774)\n",
      "22. feature 0 (0.030058)\n"
     ]
    }
   ],
   "source": [
    "print(\"Feature ranking:\")\n",
    "for f in range(x.shape[1]):\n",
    "    print(\"%d. feature %d (%f)\" % (f + 1, indices[f], importances[indices[f]]))"
   ]
  },
  {
   "cell_type": "code",
   "execution_count": null,
   "metadata": {},
   "outputs": [],
   "source": []
  }
 ],
 "metadata": {
  "kernelspec": {
   "display_name": "Python 3",
   "language": "python",
   "name": "python3"
  },
  "language_info": {
   "codemirror_mode": {
    "name": "ipython",
    "version": 3
   },
   "file_extension": ".py",
   "mimetype": "text/x-python",
   "name": "python",
   "nbconvert_exporter": "python",
   "pygments_lexer": "ipython3",
   "version": "3.6.4"
  }
 },
 "nbformat": 4,
 "nbformat_minor": 2
}
