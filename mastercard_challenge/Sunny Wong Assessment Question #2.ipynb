{
 "cells": [
  {
   "cell_type": "markdown",
   "metadata": {},
   "source": [
    "### Question 2\n",
    "here I propose adding in a few steps for preprocessing the data - this step is something I see lacking in the current workflow\n"
   ]
  },
  {
   "cell_type": "code",
   "execution_count": 40,
   "metadata": {},
   "outputs": [],
   "source": [
    "from sklearn.model_selection import train_test_split, StratifiedKFold\n",
    "from sklearn.feature_selection import RFE, RFECV, SelectKBest, chi2\n",
    "from sklearn import preprocessing\n",
    "from sklearn.preprocessing import StandardScaler\n",
    "from sklearn.feature_selection import SelectKBest\n",
    "from sklearn.feature_selection import chi2\n",
    "from sklearn.feature_selection import VarianceThreshold\n",
    "import matplotlib.pyplot as plt\n",
    "import numpy as NP\n",
    "from scipy import linalg as LA\n",
    "from numpy.random import standard_normal\n",
    "import inputparser\n",
    "# fix random seed for reproducibility\n",
    "numpy.random.seed(7)"
   ]
  },
  {
   "cell_type": "code",
   "execution_count": 41,
   "metadata": {},
   "outputs": [
    {
     "name": "stdout",
     "output_type": "stream",
     "text": [
      "(23085, 25)\n"
     ]
    }
   ],
   "source": [
    "traffic = inputparser.csv_reader('traffic.csv')\n",
    "traffic = traffic.dropna()\n",
    "#traffic = traffic[traffic['number_of_mouse_clicks']==True]\n",
    "print(traffic.shape)\n",
    "Y = traffic[['is_fraud']]\n",
    "x = inputparser.x_maker(traffic)"
   ]
  },
  {
   "cell_type": "code",
   "execution_count": 47,
   "metadata": {},
   "outputs": [],
   "source": [
    "### Sunny's data processing\n",
    "\n",
    "def feature_processing(data):\n",
    "    x  = data\n",
    "    \n",
    "    #normalize data first\n",
    "    x = StandardScaler().fit_transform(x)\n",
    "    \n",
    "    #Removing features with low variance\n",
    "    #As an example, suppose that we have a dataset with boolean features, \n",
    "    #and we want to remove all features that are either one or zero (on or off) in more than 80% of the samples\n",
    "    sel = VarianceThreshold(threshold=(.8 * (1 - .8)))\n",
    "    x = sel.fit_transform(x)\n",
    "    \n",
    "    #Univariate feature selection\n",
    "    #x_new = SelectKBest(chi2, k=2).fit_transform(x_temp, Y)\n",
    "    \n",
    "    #PCA \n",
    "    def PCA(data, dims_rescaled_data=2):\n",
    "        \"\"\"\n",
    "        returns: data transformed in 2 dims/columns + regenerated original data\n",
    "        pass in: data as 2D NumPy array\n",
    "        \"\"\"\n",
    "        m, n = data.shape\n",
    "        # mean center the data\n",
    "        data -= data.mean(axis=0)\n",
    "        # calculate the covariance matrix\n",
    "        R = NP.cov(data, rowvar=False)\n",
    "        # calculate eigenvectors & eigenvalues of the covariance matrix\n",
    "        # use 'eigh' rather than 'eig' since R is symmetric, \n",
    "        # the performance gain is substantial\n",
    "        evals, evecs = LA.eigh(R)\n",
    "        # sort eigenvalue in decreasing order\n",
    "        idx = NP.argsort(evals)[::-1]\n",
    "        evecs = evecs[:,idx]\n",
    "        # sort eigenvectors according to same index\n",
    "        evals = evals[idx]\n",
    "        # select the first n eigenvectors (n is desired dimension\n",
    "        # of rescaled data array, or dims_rescaled_data)\n",
    "        evecs = evecs[:, :dims_rescaled_data]\n",
    "        # carry out the transformation on the data using eigenvectors\n",
    "        # and return the re-scaled data, eigenvalues, and eigenvectors\n",
    "        return NP.dot(evecs.T, data.T).T, evals, evecs\n",
    "    \n",
    "    x = PCA(x)\n",
    "    return x\n",
    "\n",
    "\n",
    "    "
   ]
  },
  {
   "cell_type": "code",
   "execution_count": 50,
   "metadata": {},
   "outputs": [
    {
     "data": {
      "text/plain": [
       "(array([[-4.63995991,  3.43665654],\n",
       "        [ 2.37843244,  1.19688439],\n",
       "        [ 1.24304817,  0.71080905],\n",
       "        ...,\n",
       "        [ 1.55501748, -0.78854102],\n",
       "        [ 1.31034464,  0.65479386],\n",
       "        [ 1.75416927,  0.45529135]]),\n",
       " array([4.0662522 , 2.16148248, 1.89602703, 1.70265525, 1.60348649,\n",
       "        1.34648663, 1.12580168, 1.00101388, 0.98483745, 0.91098189,\n",
       "        0.81339453, 0.74996045, 0.71254676, 0.67548113, 0.6325222 ,\n",
       "        0.58180857, 0.47584066, 0.41464117, 0.38586405, 0.34959569,\n",
       "        0.20758336, 0.13460932, 0.06812347]),\n",
       " array([[-0.14568645,  0.28654055],\n",
       "        [-0.12138704,  0.06022234],\n",
       "        [-0.40908085, -0.19727229],\n",
       "        [-0.42635739, -0.18339892],\n",
       "        [-0.42744896, -0.13006217],\n",
       "        [-0.15574214,  0.10465623],\n",
       "        [-0.00147189, -0.39972849],\n",
       "        [-0.03385299, -0.40127926],\n",
       "        [-0.01852803,  0.10702875],\n",
       "        [-0.01702218,  0.09991026],\n",
       "        [ 0.09002845,  0.05529297],\n",
       "        [-0.1988666 ,  0.10557894],\n",
       "        [-0.27330115,  0.01796047],\n",
       "        [-0.24223017,  0.05023761],\n",
       "        [-0.29134077,  0.02608242],\n",
       "        [-0.13615081,  0.09851719],\n",
       "        [ 0.33991491, -0.18963401],\n",
       "        [ 0.0360792 , -0.18879278],\n",
       "        [-0.02591493,  0.31794954],\n",
       "        [-0.02960314,  0.3726455 ],\n",
       "        [-0.04235361,  0.36162415],\n",
       "        [-0.02921106, -0.03448711],\n",
       "        [-0.02619185,  0.02537239]]))"
      ]
     },
     "execution_count": 50,
     "metadata": {},
     "output_type": "execute_result"
    }
   ],
   "source": [
    "x_final = feature_processing(x)\n",
    "x_final"
   ]
  }
 ],
 "metadata": {
  "kernelspec": {
   "display_name": "Python 3",
   "language": "python",
   "name": "python3"
  },
  "language_info": {
   "codemirror_mode": {
    "name": "ipython",
    "version": 3
   },
   "file_extension": ".py",
   "mimetype": "text/x-python",
   "name": "python",
   "nbconvert_exporter": "python",
   "pygments_lexer": "ipython3",
   "version": "3.6.4"
  }
 },
 "nbformat": 4,
 "nbformat_minor": 2
}
